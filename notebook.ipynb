{
 "cells": [
  {
   "cell_type": "code",
   "execution_count": 6,
   "metadata": {},
   "outputs": [
    {
     "ename": "ModuleNotFoundError",
     "evalue": "No module named 'sklearn'",
     "output_type": "error",
     "traceback": [
      "\u001b[1;31m---------------------------------------------------------------------------\u001b[0m",
      "\u001b[1;31mModuleNotFoundError\u001b[0m                       Traceback (most recent call last)",
      "Cell \u001b[1;32mIn[6], line 4\u001b[0m\n\u001b[0;32m      2\u001b[0m \u001b[38;5;28;01mimport\u001b[39;00m \u001b[38;5;21;01mpandas\u001b[39;00m \u001b[38;5;28;01mas\u001b[39;00m \u001b[38;5;21;01mpd\u001b[39;00m\n\u001b[0;32m      3\u001b[0m \u001b[38;5;28;01mimport\u001b[39;00m \u001b[38;5;21;01mmatplotlib\u001b[39;00m\u001b[38;5;21;01m.\u001b[39;00m\u001b[38;5;21;01mpyplot\u001b[39;00m \u001b[38;5;28;01mas\u001b[39;00m \u001b[38;5;21;01mplt\u001b[39;00m\n\u001b[1;32m----> 4\u001b[0m \u001b[38;5;28;01mfrom\u001b[39;00m \u001b[38;5;21;01msklearn\u001b[39;00m\u001b[38;5;21;01m.\u001b[39;00m\u001b[38;5;21;01mlinear_model\u001b[39;00m \u001b[38;5;28;01mimport\u001b[39;00m LinearRegression\n\u001b[0;32m      5\u001b[0m \u001b[38;5;28;01mfrom\u001b[39;00m \u001b[38;5;21;01msklearn\u001b[39;00m\u001b[38;5;21;01m.\u001b[39;00m\u001b[38;5;21;01mlinear_model\u001b[39;00m \u001b[38;5;28;01mimport\u001b[39;00m Lasso\n\u001b[0;32m      6\u001b[0m \u001b[38;5;28;01mfrom\u001b[39;00m \u001b[38;5;21;01msklearn\u001b[39;00m\u001b[38;5;21;01m.\u001b[39;00m\u001b[38;5;21;01mmetrics\u001b[39;00m \u001b[38;5;28;01mimport\u001b[39;00m mean_squared_error, r2_score\n",
      "\u001b[1;31mModuleNotFoundError\u001b[0m: No module named 'sklearn'"
     ]
    }
   ],
   "source": [
    "import numpy as np\n",
    "import pandas as pd\n",
    "import matplotlib.pyplot as plt\n",
    "from sklearn.linear_model import LinearRegression\n",
    "from sklearn.linear_model import Lasso\n",
    "from sklearn.metrics import mean_squared_error, r2_score"
   ]
  },
  {
   "cell_type": "code",
   "execution_count": 3,
   "metadata": {},
   "outputs": [
    {
     "name": "stdout",
     "output_type": "stream",
     "text": [
      "<class 'pandas.core.frame.DataFrame'>\n",
      "Index: 16139 entries, 0 to 4841\n",
      "Data columns (total 36 columns):\n",
      " #   Column              Non-Null Count  Dtype  \n",
      "---  ------              --------------  -----  \n",
      " 0   id                  16139 non-null  int64  \n",
      " 1   ad_title            16139 non-null  object \n",
      " 2   date_activ          16139 non-null  object \n",
      " 3   date_modif          16139 non-null  object \n",
      " 4   date_expire         16139 non-null  object \n",
      " 5   individual          14545 non-null  object \n",
      " 6   price               11297 non-null  float64\n",
      " 7   flat_area           14415 non-null  float64\n",
      " 8   flat_rooms          14397 non-null  float64\n",
      " 9   flat_furnished      14208 non-null  object \n",
      " 10  flat_rent           16139 non-null  int64  \n",
      " 11  flat_deposit        16139 non-null  float64\n",
      " 12  flat_for_students   13594 non-null  object \n",
      " 13  building_floor_num  16139 non-null  int64  \n",
      " 14  flat_balcony        14209 non-null  object \n",
      " 15  flat_utility_room   16139 non-null  bool   \n",
      " 16  flat_garage         14208 non-null  object \n",
      " 17  flat_basement       16139 non-null  bool   \n",
      " 18  flat_garden         14208 non-null  object \n",
      " 19  flat_tarrace        16139 non-null  bool   \n",
      " 20  flat_lift           16139 non-null  bool   \n",
      " 21  flat_two_level      16139 non-null  bool   \n",
      " 22  flat_kitchen_sep    16139 non-null  bool   \n",
      " 23  flat_air_cond       16139 non-null  bool   \n",
      " 24  flat_nonsmokers     16139 non-null  bool   \n",
      " 25  flat_washmachine    16139 non-null  bool   \n",
      " 26  flat_dishwasher     14208 non-null  object \n",
      " 27  flat_fridge         16139 non-null  bool   \n",
      " 28  flat_cooker         16139 non-null  bool   \n",
      " 29  flat_oven           16139 non-null  bool   \n",
      " 30  flat_internet       11017 non-null  object \n",
      " 31  flat_television     16139 non-null  bool   \n",
      " 32  flat_anti_blinds    16139 non-null  bool   \n",
      " 33  flat_monitoring     16139 non-null  bool   \n",
      " 34  flat_closed_area    13594 non-null  object \n",
      " 35  quarter             14209 non-null  object \n",
      "dtypes: bool(15), float64(4), int64(3), object(14)\n",
      "memory usage: 2.9+ MB\n"
     ]
    }
   ],
   "source": [
    "data_test = pd.read_csv('pzn-rent-test.csv')\n",
    "data_train = pd.read_csv('pzn-rent-train.csv')\n",
    "data_merged = pd.concat([data_train, data_test])\n",
    "data_merged.info()"
   ]
  },
  {
   "cell_type": "code",
   "execution_count": null,
   "metadata": {},
   "outputs": [
    {
     "data": {
      "text/plain": [
       "id                    16139\n",
       "ad_title              16139\n",
       "date_activ            16139\n",
       "date_modif            16139\n",
       "date_expire           16139\n",
       "individual            14545\n",
       "price                 11297\n",
       "flat_area             14415\n",
       "flat_rooms            14397\n",
       "flat_furnished        14208\n",
       "flat_rent             16139\n",
       "flat_deposit          16139\n",
       "flat_for_students     13594\n",
       "building_floor_num    16139\n",
       "flat_balcony          14209\n",
       "flat_utility_room     16139\n",
       "flat_garage           14208\n",
       "flat_basement         16139\n",
       "flat_garden           14208\n",
       "flat_tarrace          16139\n",
       "flat_lift             16139\n",
       "flat_two_level        16139\n",
       "flat_kitchen_sep      16139\n",
       "flat_air_cond         16139\n",
       "flat_nonsmokers       16139\n",
       "flat_washmachine      16139\n",
       "flat_dishwasher       14208\n",
       "flat_fridge           16139\n",
       "flat_cooker           16139\n",
       "flat_oven             16139\n",
       "flat_internet         11017\n",
       "flat_television       16139\n",
       "flat_anti_blinds      16139\n",
       "flat_monitoring       16139\n",
       "flat_closed_area      13594\n",
       "quarter               14209\n",
       "dtype: int64"
      ]
     },
     "execution_count": 5,
     "metadata": {},
     "output_type": "execute_result"
    }
   ],
   "source": [
    "data_dropped = data_merged.dropna()\n",
    "data_dropped.count()\n",
    "data_merged.count()"
   ]
  },
  {
   "cell_type": "code",
   "execution_count": null,
   "metadata": {},
   "outputs": [],
   "source": []
  }
 ],
 "metadata": {
  "kernelspec": {
   "display_name": "Python 3",
   "language": "python",
   "name": "python3"
  },
  "language_info": {
   "codemirror_mode": {
    "name": "ipython",
    "version": 3
   },
   "file_extension": ".py",
   "mimetype": "text/x-python",
   "name": "python",
   "nbconvert_exporter": "python",
   "pygments_lexer": "ipython3",
   "version": "3.11.9"
  }
 },
 "nbformat": 4,
 "nbformat_minor": 2
}
